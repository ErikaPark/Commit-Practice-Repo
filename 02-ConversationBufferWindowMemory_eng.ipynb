{
 "cells": [
  {
   "cell_type": "markdown",
   "metadata": {},
   "source": [
    "# ConversationBufferWindowMemory\n",
    "\n",
    "`ConversationBufferWindowMemory` maintains a list of interactions over time.\n",
    "\n",
    "At this time, `ConversationBufferWindowMemory` uses only the **most recent K** interactions, not all conversation content.\n",
    "\n",
    "This can be useful for maintaining a sliding window of the most recent interactions so that the buffer does not become too large.\n",
    "\n"
   ]
  },
  {
   "cell_type": "code",
   "execution_count": 1,
   "metadata": {},
   "outputs": [],
   "source": [
    "from langchain.memory import ConversationBufferWindowMemory\n",
    "\n",
    "memory = ConversationBufferWindowMemory(k=2, return_messages=True)\n",
    "\n",
    "memory.save_context(\n",
    "    inputs={\n",
    "        \"human\": \"Hello, I would like to open a bank account online. How should I start?\"\n",
    "    },\n",
    "    outputs={\n",
    "        \"ai\": \"Hello! I'm glad you want to open an account. First, could you please prepare your ID for verification?\"\n",
    "    },\n",
    ")\n",
    "memory.save_context(\n",
    "    inputs={\"human\": \"Yes, I have prepared my ID. What should I do next?\"},\n",
    "    outputs={\n",
    "        \"ai\": \"Thank you. Please take a clear photo of the front and back of your ID and upload it. We will proceed with the verification process afterward.\"\n",
    "    },\n",
    ")\n",
    "memory.save_context(\n",
    "    inputs={\"human\": \"I have uploaded the photo. How is the verification done?\"},\n",
    "    outputs={\n",
    "        \"ai\": \"We have checked the photo you uploaded. Now, please proceed with the verification through your phone. Enter the verification code sent via text message.\"\n",
    "    },\n",
    ")\n",
    "memory.save_context(\n",
    "    inputs={\"human\": \"I have entered the verification code. How do I open the account now?\"},\n",
    "    outputs={\n",
    "        \"ai\": \"Your verification is complete. Now, please select the type of account you want and enter the necessary information. You can choose the type of deposit, currency, etc.\"\n",
    "    },\n",
    ")\n",
    "memory.save_context(\n",
    "    inputs={\"human\": \"I have entered all the information. What is the next step?\"},\n",
    "    outputs={\n",
    "        \"ai\": \"We have checked the information you entered. The account opening process is almost complete. Finally, please agree to the terms and conditions and confirm the account opening.\"\n",
    "    },\n",
    ")\n",
    "memory.save_context(\n",
    "    inputs={\"human\": \"I have completed all the procedures. Is the account opened?\"},\n",
    "    outputs={\n",
    "        \"ai\": \"Yes, the account has been opened. Your account number and related information have been sent to your registered email. If you need further assistance, please feel free to contact us. Thank you!\"\n",
    "    },\n",
    ")"
   ]
  },
  {
   "cell_type": "markdown",
   "metadata": {},
   "source": [
    "You can check the conversation history to see that it returns only the **most recent 2** messages.\n"
   ]
  },
  {
   "cell_type": "code",
   "execution_count": 4,
   "metadata": {},
   "outputs": [
    {
     "data": {
      "text/plain": [
       "[HumanMessage(content='I have entered all the information. What is the next step?', additional_kwargs={}, response_metadata={}),\n",
       " AIMessage(content='We have checked the information you entered. The account opening process is almost complete. Finally, please agree to the terms and conditions and confirm the account opening.', additional_kwargs={}, response_metadata={}),\n",
       " HumanMessage(content='I have completed all the procedures. Is the account opened?', additional_kwargs={}, response_metadata={}),\n",
       " AIMessage(content='Yes, the account has been opened. Your account number and related information have been sent to your registered email. If you need further assistance, please feel free to contact us. Thank you!', additional_kwargs={}, response_metadata={})]"
      ]
     },
     "execution_count": 4,
     "metadata": {},
     "output_type": "execute_result"
    }
   ],
   "source": [
    "# Check the conversation history.\n",
    "memory.load_memory_variables({})[\"history\"]"
   ]
  },
  {
   "cell_type": "code",
   "execution_count": null,
   "metadata": {},
   "outputs": [],
   "source": []
  }
 ],
 "metadata": {
  "kernelspec": {
   "display_name": "py-test",
   "language": "python",
   "name": "python3"
  },
  "language_info": {
   "codemirror_mode": {
    "name": "ipython",
    "version": 3
   },
   "file_extension": ".py",
   "mimetype": "text/x-python",
   "name": "python",
   "nbconvert_exporter": "python",
   "pygments_lexer": "ipython3",
   "version": "3.11.10"
  }
 },
 "nbformat": 4,
 "nbformat_minor": 2
}
